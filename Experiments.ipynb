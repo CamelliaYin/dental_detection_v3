{
 "cells": [
  {
   "cell_type": "code",
   "execution_count": null,
   "id": "387cea34-5b40-4024-ba78-57e1f0df9a8c",
   "metadata": {},
   "outputs": [],
   "source": [
    "!pip install poetry --user\n",
    "./weights/download_weights.sh"
   ]
  },
  {
   "cell_type": "code",
   "execution_count": null,
   "id": "9c5deac5-a9f1-4604-8b96-f3d8a3f5de5a",
   "metadata": {},
   "outputs": [],
   "source": [
    "!pip install pytorchyolo --user"
   ]
  },
  {
   "cell_type": "code",
   "execution_count": null,
   "id": "ab9f5040-aaaf-4df1-a034-cca7c604e981",
   "metadata": {},
   "outputs": [],
   "source": []
  },
  {
   "cell_type": "code",
   "execution_count": 1,
   "id": "0a818887-2595-4507-b160-e09e16c77c3d",
   "metadata": {},
   "outputs": [
    {
     "name": "stdout",
     "output_type": "stream",
     "text": [
      "Environment information:\n",
      "System: Windows 10\n",
      "Not using the poetry package\n",
      "No git or repo found\n",
      "Command line arguments: Namespace(model='config/toyIID.cfg', data='config/toyIID.data', epochs=10, verbose=False, batch=10, n_cpu=8, pretrained_weights=None, checkpoint_interval=1, evaluation_interval=1, multiscale_training=False, iou_thres=0.5, conf_thres=0.1, nms_thres=0.5, logdir='logs', seed=-1)\n",
      "Batch Size is:  10\n",
      "\n",
      "---- Training Model ----\n"
     ]
    },
    {
     "name": "stderr",
     "output_type": "stream",
     "text": [
      "Training Epoch 1: 100%|██████████| 32/32 [00:34<00:00,  1.07s/it]\n"
     ]
    },
    {
     "name": "stdout",
     "output_type": "stream",
     "text": [
      "---- Saving checkpoint to: 'checkpoints/yolov3_ckpt_1.pth' ----\n",
      "\n",
      "---- Evaluating Model ----\n"
     ]
    },
    {
     "name": "stderr",
     "output_type": "stream",
     "text": [
      "Validating: 100%|██████████| 2/2 [00:06<00:00,  3.35s/it]\n",
      "Computing AP: 100%|██████████| 2/2 [00:00<00:00, 167.13it/s]\n"
     ]
    },
    {
     "name": "stdout",
     "output_type": "stream",
     "text": [
      "---- mAP 0.00006 ----\n",
      "\n",
      "---- Training Model ----\n"
     ]
    },
    {
     "name": "stderr",
     "output_type": "stream",
     "text": [
      "Training Epoch 2: 100%|██████████| 32/32 [00:32<00:00,  1.02s/it]\n"
     ]
    },
    {
     "name": "stdout",
     "output_type": "stream",
     "text": [
      "---- Saving checkpoint to: 'checkpoints/yolov3_ckpt_2.pth' ----\n",
      "\n",
      "---- Evaluating Model ----\n"
     ]
    },
    {
     "name": "stderr",
     "output_type": "stream",
     "text": [
      "Validating: 100%|██████████| 2/2 [00:05<00:00,  2.84s/it]\n",
      "Computing AP: 100%|██████████| 2/2 [00:00<00:00, 200.52it/s]\n"
     ]
    },
    {
     "name": "stdout",
     "output_type": "stream",
     "text": [
      "---- mAP 0.00002 ----\n",
      "\n",
      "---- Training Model ----\n"
     ]
    },
    {
     "name": "stderr",
     "output_type": "stream",
     "text": [
      "Training Epoch 3: 100%|██████████| 32/32 [00:32<00:00,  1.01s/it]\n"
     ]
    },
    {
     "name": "stdout",
     "output_type": "stream",
     "text": [
      "---- Saving checkpoint to: 'checkpoints/yolov3_ckpt_3.pth' ----\n",
      "\n",
      "---- Evaluating Model ----\n"
     ]
    },
    {
     "name": "stderr",
     "output_type": "stream",
     "text": [
      "Validating: 100%|██████████| 2/2 [00:05<00:00,  2.88s/it]\n",
      "Computing AP: 100%|██████████| 2/2 [00:00<00:00, 181.81it/s]\n"
     ]
    },
    {
     "name": "stdout",
     "output_type": "stream",
     "text": [
      "---- mAP 0.00006 ----\n",
      "\n",
      "---- Training Model ----\n"
     ]
    },
    {
     "name": "stderr",
     "output_type": "stream",
     "text": [
      "Training Epoch 4: 100%|██████████| 32/32 [00:31<00:00,  1.01it/s]\n"
     ]
    },
    {
     "name": "stdout",
     "output_type": "stream",
     "text": [
      "---- Saving checkpoint to: 'checkpoints/yolov3_ckpt_4.pth' ----\n",
      "\n",
      "---- Evaluating Model ----\n"
     ]
    },
    {
     "name": "stderr",
     "output_type": "stream",
     "text": [
      "Validating: 100%|██████████| 2/2 [00:05<00:00,  2.72s/it]\n",
      "Computing AP: 100%|██████████| 2/2 [00:00<00:00, 182.29it/s]\n"
     ]
    },
    {
     "name": "stdout",
     "output_type": "stream",
     "text": [
      "---- mAP 0.00010 ----\n",
      "\n",
      "---- Training Model ----\n"
     ]
    },
    {
     "name": "stderr",
     "output_type": "stream",
     "text": [
      "Training Epoch 5: 100%|██████████| 32/32 [00:32<00:00,  1.00s/it]\n"
     ]
    },
    {
     "name": "stdout",
     "output_type": "stream",
     "text": [
      "---- Saving checkpoint to: 'checkpoints/yolov3_ckpt_5.pth' ----\n",
      "\n",
      "---- Evaluating Model ----\n"
     ]
    },
    {
     "name": "stderr",
     "output_type": "stream",
     "text": [
      "Validating: 100%|██████████| 2/2 [00:05<00:00,  2.79s/it]\n",
      "Computing AP: 100%|██████████| 2/2 [00:00<00:00, 200.52it/s]\n"
     ]
    },
    {
     "name": "stdout",
     "output_type": "stream",
     "text": [
      "---- mAP 0.00133 ----\n",
      "\n",
      "---- Training Model ----\n"
     ]
    },
    {
     "name": "stderr",
     "output_type": "stream",
     "text": [
      "Training Epoch 6: 100%|██████████| 32/32 [00:31<00:00,  1.02it/s]\n"
     ]
    },
    {
     "name": "stdout",
     "output_type": "stream",
     "text": [
      "---- Saving checkpoint to: 'checkpoints/yolov3_ckpt_6.pth' ----\n",
      "\n",
      "---- Evaluating Model ----\n"
     ]
    },
    {
     "name": "stderr",
     "output_type": "stream",
     "text": [
      "Validating: 100%|██████████| 2/2 [00:05<00:00,  2.76s/it]\n",
      "Computing AP: 100%|██████████| 2/2 [00:00<00:00, 200.55it/s]\n"
     ]
    },
    {
     "name": "stdout",
     "output_type": "stream",
     "text": [
      "---- mAP 0.00770 ----\n",
      "\n",
      "---- Training Model ----\n"
     ]
    },
    {
     "name": "stderr",
     "output_type": "stream",
     "text": [
      "Training Epoch 7: 100%|██████████| 32/32 [00:31<00:00,  1.01it/s]\n"
     ]
    },
    {
     "name": "stdout",
     "output_type": "stream",
     "text": [
      "---- Saving checkpoint to: 'checkpoints/yolov3_ckpt_7.pth' ----\n",
      "\n",
      "---- Evaluating Model ----\n"
     ]
    },
    {
     "name": "stderr",
     "output_type": "stream",
     "text": [
      "Validating: 100%|██████████| 2/2 [00:04<00:00,  2.31s/it]\n",
      "Computing AP: 100%|██████████| 2/2 [00:00<00:00, 1003.06it/s]\n"
     ]
    },
    {
     "name": "stdout",
     "output_type": "stream",
     "text": [
      "---- mAP 0.00578 ----\n",
      "\n",
      "---- Training Model ----\n"
     ]
    },
    {
     "name": "stderr",
     "output_type": "stream",
     "text": [
      "Training Epoch 8: 100%|██████████| 32/32 [00:31<00:00,  1.00it/s]\n"
     ]
    },
    {
     "name": "stdout",
     "output_type": "stream",
     "text": [
      "---- Saving checkpoint to: 'checkpoints/yolov3_ckpt_8.pth' ----\n",
      "\n",
      "---- Evaluating Model ----\n"
     ]
    },
    {
     "name": "stderr",
     "output_type": "stream",
     "text": [
      "Validating: 100%|██████████| 2/2 [00:04<00:00,  2.38s/it]\n",
      "Computing AP: 100%|██████████| 2/2 [00:00<00:00, 1002.46it/s]\n"
     ]
    },
    {
     "name": "stdout",
     "output_type": "stream",
     "text": [
      "---- mAP 0.00190 ----\n",
      "\n",
      "---- Training Model ----\n"
     ]
    },
    {
     "name": "stderr",
     "output_type": "stream",
     "text": [
      "Training Epoch 9: 100%|██████████| 32/32 [00:32<00:00,  1.00s/it]\n"
     ]
    },
    {
     "name": "stdout",
     "output_type": "stream",
     "text": [
      "---- Saving checkpoint to: 'checkpoints/yolov3_ckpt_9.pth' ----\n",
      "\n",
      "---- Evaluating Model ----\n"
     ]
    },
    {
     "name": "stderr",
     "output_type": "stream",
     "text": [
      "Validating: 100%|██████████| 2/2 [00:04<00:00,  2.29s/it]\n",
      "Computing AP: 100%|██████████| 2/2 [00:00<00:00, 2003.49it/s]\n"
     ]
    },
    {
     "name": "stdout",
     "output_type": "stream",
     "text": [
      "---- mAP 0.00349 ----\n",
      "\n",
      "---- Training Model ----\n"
     ]
    },
    {
     "name": "stderr",
     "output_type": "stream",
     "text": [
      "Training Epoch 10: 100%|██████████| 32/32 [00:31<00:00,  1.01it/s]\n"
     ]
    },
    {
     "name": "stdout",
     "output_type": "stream",
     "text": [
      "---- Saving checkpoint to: 'checkpoints/yolov3_ckpt_10.pth' ----\n",
      "\n",
      "---- Evaluating Model ----\n"
     ]
    },
    {
     "name": "stderr",
     "output_type": "stream",
     "text": [
      "Validating: 100%|██████████| 2/2 [00:04<00:00,  2.24s/it]\n",
      "Computing AP: 100%|██████████| 2/2 [00:00<00:00, 2005.40it/s]"
     ]
    },
    {
     "name": "stdout",
     "output_type": "stream",
     "text": [
      "---- mAP 0.00000 ----\n"
     ]
    },
    {
     "name": "stderr",
     "output_type": "stream",
     "text": [
      "\n"
     ]
    }
   ],
   "source": [
    "import os\n",
    "os.environ['KMP_DUPLICATE_LIB_OK']='True'\n",
    "\n",
    "%run -i pytorchyolo/train.py --model config/toyIID.cfg --data config/toyIID.data --epochs 10 --batch 10"
   ]
  },
  {
   "cell_type": "code",
   "execution_count": null,
   "id": "0ba774dc-9647-447f-a2ac-0eeba56abbe2",
   "metadata": {},
   "outputs": [],
   "source": []
  }
 ],
 "metadata": {
  "kernelspec": {
   "display_name": "Python 3 (ipykernel)",
   "language": "python",
   "name": "python3"
  },
  "language_info": {
   "codemirror_mode": {
    "name": "ipython",
    "version": 3
   },
   "file_extension": ".py",
   "mimetype": "text/x-python",
   "name": "python",
   "nbconvert_exporter": "python",
   "pygments_lexer": "ipython3",
   "version": "3.9.7"
  }
 },
 "nbformat": 4,
 "nbformat_minor": 5
}
